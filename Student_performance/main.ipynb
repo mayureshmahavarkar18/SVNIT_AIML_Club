{
 "cells": [
  {
   "cell_type": "markdown",
   "id": "27ad3e99",
   "metadata": {},
   "source": [
    "1. Load the dataset using pandas.\n",
    "\n",
    "2. Calculate the following:\n",
    "\n",
    "3. Total number of students\n",
    "\n",
    "4. Students who studied > 2 hours\n",
    "\n",
    "5. Students who passed\n",
    "\n",
    "6. Students who studied > 2 hours and passed\n",
    "\n",
    "7. Percentage of students who passed among those who studied > 2 hours\n",
    "\n",
    "8. Use Bayes Theorem to compute:\n",
    "➤ Probability that a student studied > 2h given they passed"
   ]
  },
  {
   "cell_type": "code",
   "execution_count": null,
   "id": "f9b2c7df",
   "metadata": {},
   "outputs": [],
   "source": [
    "import pandas as pd"
   ]
  },
  {
   "cell_type": "markdown",
   "id": "547f7171",
   "metadata": {},
   "source": [
    "Task-1: Load the dataset using pandas."
   ]
  },
  {
   "cell_type": "code",
   "execution_count": 2,
   "id": "776d8592",
   "metadata": {},
   "outputs": [
    {
     "data": {
      "application/vnd.microsoft.datawrangler.viewer.v0+json": {
       "columns": [
        {
         "name": "index",
         "rawType": "int64",
         "type": "integer"
        },
        {
         "name": "student_id",
         "rawType": "object",
         "type": "string"
        },
        {
         "name": "age",
         "rawType": "int64",
         "type": "integer"
        },
        {
         "name": "gender",
         "rawType": "object",
         "type": "string"
        },
        {
         "name": "study_hours_per_day",
         "rawType": "float64",
         "type": "float"
        },
        {
         "name": "social_media_hours",
         "rawType": "float64",
         "type": "float"
        },
        {
         "name": "netflix_hours",
         "rawType": "float64",
         "type": "float"
        },
        {
         "name": "part_time_job",
         "rawType": "object",
         "type": "string"
        },
        {
         "name": "attendance_percentage",
         "rawType": "float64",
         "type": "float"
        },
        {
         "name": "sleep_hours",
         "rawType": "float64",
         "type": "float"
        },
        {
         "name": "diet_quality",
         "rawType": "object",
         "type": "string"
        },
        {
         "name": "exercise_frequency",
         "rawType": "int64",
         "type": "integer"
        },
        {
         "name": "parental_education_level",
         "rawType": "object",
         "type": "unknown"
        },
        {
         "name": "internet_quality",
         "rawType": "object",
         "type": "string"
        },
        {
         "name": "mental_health_rating",
         "rawType": "int64",
         "type": "integer"
        },
        {
         "name": "extracurricular_participation",
         "rawType": "object",
         "type": "string"
        },
        {
         "name": "exam_score",
         "rawType": "float64",
         "type": "float"
        }
       ],
       "ref": "c116cd97-a319-47ff-a12c-0a727bab2bf3",
       "rows": [
        [
         "0",
         "S1000",
         "23",
         "Female",
         "0.0",
         "1.2",
         "1.1",
         "No",
         "85.0",
         "8.0",
         "Fair",
         "6",
         "Master",
         "Average",
         "8",
         "Yes",
         "56.2"
        ],
        [
         "1",
         "S1001",
         "20",
         "Female",
         "6.9",
         "2.8",
         "2.3",
         "No",
         "97.3",
         "4.6",
         "Good",
         "6",
         "High School",
         "Average",
         "8",
         "No",
         "100.0"
        ],
        [
         "2",
         "S1002",
         "21",
         "Male",
         "1.4",
         "3.1",
         "1.3",
         "No",
         "94.8",
         "8.0",
         "Poor",
         "1",
         "High School",
         "Poor",
         "1",
         "No",
         "34.3"
        ],
        [
         "3",
         "S1003",
         "23",
         "Female",
         "1.0",
         "3.9",
         "1.0",
         "No",
         "71.0",
         "9.2",
         "Poor",
         "4",
         "Master",
         "Good",
         "1",
         "Yes",
         "26.8"
        ],
        [
         "4",
         "S1004",
         "19",
         "Female",
         "5.0",
         "4.4",
         "0.5",
         "No",
         "90.9",
         "4.9",
         "Fair",
         "3",
         "Master",
         "Good",
         "1",
         "No",
         "66.4"
        ],
        [
         "5",
         "S1005",
         "24",
         "Male",
         "7.2",
         "1.3",
         "0.0",
         "No",
         "82.9",
         "7.4",
         "Fair",
         "1",
         "Master",
         "Average",
         "4",
         "No",
         "100.0"
        ],
        [
         "6",
         "S1006",
         "21",
         "Female",
         "5.6",
         "1.5",
         "1.4",
         "Yes",
         "85.8",
         "6.5",
         "Good",
         "2",
         "Master",
         "Poor",
         "4",
         "No",
         "89.8"
        ],
        [
         "7",
         "S1007",
         "21",
         "Female",
         "4.3",
         "1.0",
         "2.0",
         "Yes",
         "77.7",
         "4.6",
         "Fair",
         "0",
         "Bachelor",
         "Average",
         "8",
         "No",
         "72.6"
        ],
        [
         "8",
         "S1008",
         "23",
         "Female",
         "4.4",
         "2.2",
         "1.7",
         "No",
         "100.0",
         "7.1",
         "Good",
         "3",
         "Bachelor",
         "Good",
         "1",
         "No",
         "78.9"
        ],
        [
         "9",
         "S1009",
         "18",
         "Female",
         "4.8",
         "3.1",
         "1.3",
         "No",
         "95.4",
         "7.5",
         "Good",
         "5",
         "Bachelor",
         "Good",
         "10",
         "Yes",
         "100.0"
        ],
        [
         "10",
         "S1010",
         "19",
         "Female",
         "4.6",
         "3.7",
         "0.8",
         "No",
         "77.6",
         "5.8",
         "Fair",
         "1",
         null,
         "Good",
         "3",
         "No",
         "63.3"
        ],
        [
         "11",
         "S1011",
         "23",
         "Male",
         "3.9",
         "2.4",
         "2.5",
         "No",
         "71.7",
         "7.9",
         "Fair",
         "2",
         "Bachelor",
         "Average",
         "1",
         "No",
         "74.4"
        ],
        [
         "12",
         "S1012",
         "19",
         "Female",
         "3.7",
         "2.1",
         "0.4",
         "Yes",
         "81.1",
         "4.5",
         "Fair",
         "1",
         "Bachelor",
         "Good",
         "9",
         "No",
         "76.9"
        ],
        [
         "13",
         "S1013",
         "19",
         "Female",
         "3.4",
         "2.7",
         "2.7",
         "No",
         "89.3",
         "4.7",
         "Fair",
         "4",
         "Bachelor",
         "Good",
         "10",
         "No",
         "75.8"
        ],
        [
         "14",
         "S1014",
         "24",
         "Male",
         "2.4",
         "1.5",
         "0.7",
         "No",
         "87.4",
         "6.7",
         "Poor",
         "6",
         "Bachelor",
         "Average",
         "9",
         "No",
         "78.9"
        ],
        [
         "15",
         "S1015",
         "21",
         "Male",
         "3.1",
         "5.0",
         "1.0",
         "No",
         "97.5",
         "6.5",
         "Good",
         "6",
         "High School",
         "Average",
         "7",
         "No",
         "74.0"
        ],
        [
         "16",
         "S1016",
         "20",
         "Male",
         "1.0",
         "0.6",
         "0.2",
         "No",
         "92.9",
         "5.6",
         "Poor",
         "3",
         "High School",
         "Poor",
         "8",
         "Yes",
         "55.2"
        ],
        [
         "17",
         "S1017",
         "24",
         "Female",
         "3.4",
         "2.7",
         "1.2",
         "No",
         "94.7",
         "7.5",
         "Poor",
         "0",
         "High School",
         "Average",
         "1",
         "Yes",
         "70.8"
        ],
        [
         "18",
         "S1018",
         "24",
         "Other",
         "2.0",
         "4.9",
         "2.9",
         "Yes",
         "88.3",
         "7.1",
         "Good",
         "2",
         "High School",
         "Good",
         "5",
         "No",
         "43.9"
        ],
        [
         "19",
         "S1019",
         "19",
         "Male",
         "1.8",
         "2.5",
         "2.4",
         "No",
         "71.1",
         "7.5",
         "Fair",
         "1",
         "High School",
         "Average",
         "2",
         "No",
         "45.3"
        ],
        [
         "20",
         "S1020",
         "22",
         "Female",
         "3.8",
         "2.3",
         "2.9",
         "No",
         "83.0",
         "6.4",
         "Good",
         "3",
         "Master",
         "Good",
         "1",
         "No",
         "58.5"
        ],
        [
         "21",
         "S1021",
         "21",
         "Male",
         "5.6",
         "2.1",
         "2.4",
         "No",
         "95.6",
         "7.2",
         "Fair",
         "1",
         "High School",
         "Good",
         "3",
         "No",
         "82.5"
        ],
        [
         "22",
         "S1022",
         "18",
         "Other",
         "4.9",
         "2.3",
         "0.6",
         "No",
         "84.5",
         "6.0",
         "Fair",
         "3",
         "High School",
         "Average",
         "7",
         "No",
         "98.7"
        ],
        [
         "23",
         "S1023",
         "24",
         "Female",
         "1.1",
         "4.1",
         "1.4",
         "Yes",
         "90.0",
         "9.0",
         "Fair",
         "6",
         "Bachelor",
         "Good",
         "1",
         "No",
         "43.7"
        ],
        [
         "24",
         "S1024",
         "20",
         "Female",
         "2.0",
         "0.0",
         "0.9",
         "Yes",
         "81.8",
         "5.5",
         "Fair",
         "4",
         "Bachelor",
         "Average",
         "2",
         "No",
         "54.9"
        ],
        [
         "25",
         "S1025",
         "22",
         "Male",
         "4.9",
         "4.3",
         "3.3",
         "No",
         "74.7",
         "9.0",
         "Fair",
         "1",
         "High School",
         "Average",
         "2",
         "Yes",
         "69.9"
        ],
        [
         "26",
         "S1026",
         "22",
         "Male",
         "2.0",
         "0.8",
         "0.5",
         "No",
         "83.8",
         "6.5",
         "Good",
         "4",
         "Bachelor",
         "Poor",
         "4",
         "No",
         "73.5"
        ],
        [
         "27",
         "S1027",
         "18",
         "Male",
         "3.2",
         "2.2",
         "2.8",
         "Yes",
         "88.1",
         "4.8",
         "Fair",
         "5",
         "Bachelor",
         "Average",
         "3",
         "No",
         "71.1"
        ],
        [
         "28",
         "S1028",
         "24",
         "Male",
         "4.3",
         "2.0",
         "2.8",
         "Yes",
         "78.4",
         "8.1",
         "Good",
         "5",
         "High School",
         "Poor",
         "3",
         "Yes",
         "82.8"
        ],
        [
         "29",
         "S1029",
         "20",
         "Female",
         "2.0",
         "3.2",
         "3.8",
         "Yes",
         "82.6",
         "6.7",
         "Poor",
         "6",
         "High School",
         "Poor",
         "10",
         "Yes",
         "75.7"
        ],
        [
         "30",
         "S1030",
         "21",
         "Female",
         "3.7",
         "0.6",
         "1.3",
         "No",
         "75.6",
         "7.5",
         "Fair",
         "2",
         "Master",
         "Average",
         "5",
         "No",
         "70.6"
        ],
        [
         "31",
         "S1031",
         "17",
         "Other",
         "1.5",
         "3.1",
         "2.6",
         "Yes",
         "96.2",
         "8.0",
         "Fair",
         "4",
         "Bachelor",
         "Average",
         "3",
         "Yes",
         "51.3"
        ],
        [
         "32",
         "S1032",
         "20",
         "Other",
         "2.6",
         "4.9",
         "4.3",
         "No",
         "82.1",
         "6.9",
         "Good",
         "3",
         "Bachelor",
         "Good",
         "7",
         "No",
         "52.1"
        ],
        [
         "33",
         "S1033",
         "18",
         "Female",
         "4.0",
         "0.9",
         "1.1",
         "No",
         "99.5",
         "5.8",
         "Poor",
         "2",
         null,
         "Average",
         "5",
         "No",
         "70.7"
        ],
        [
         "34",
         "S1034",
         "22",
         "Female",
         "1.1",
         "2.7",
         "0.1",
         "No",
         "100.0",
         "7.7",
         "Fair",
         "1",
         "High School",
         "Good",
         "4",
         "No",
         "51.2"
        ],
        [
         "35",
         "S1035",
         "21",
         "Female",
         "4.2",
         "1.7",
         "0.0",
         "Yes",
         "84.2",
         "6.5",
         "Good",
         "1",
         "Bachelor",
         "Average",
         "3",
         "No",
         "72.6"
        ],
        [
         "36",
         "S1036",
         "20",
         "Female",
         "3.5",
         "3.0",
         "2.6",
         "No",
         "74.9",
         "7.3",
         "Fair",
         "3",
         "High School",
         "Good",
         "4",
         "No",
         "70.7"
        ],
        [
         "37",
         "S1037",
         "17",
         "Male",
         "4.3",
         "2.5",
         "0.0",
         "Yes",
         "64.1",
         "3.9",
         "Good",
         "0",
         "High School",
         "Average",
         "2",
         "No",
         "59.4"
        ],
        [
         "38",
         "S1038",
         "17",
         "Male",
         "3.8",
         "1.7",
         "1.4",
         "No",
         "70.3",
         "7.0",
         "Poor",
         "0",
         "Bachelor",
         "Good",
         "1",
         "No",
         "58.1"
        ],
        [
         "39",
         "S1039",
         "19",
         "Male",
         "5.5",
         "3.1",
         "2.3",
         "No",
         "71.3",
         "5.7",
         "Good",
         "1",
         "High School",
         "Average",
         "3",
         "No",
         "82.3"
        ],
        [
         "40",
         "S1040",
         "19",
         "Female",
         "3.7",
         "4.7",
         "2.0",
         "No",
         "98.8",
         "8.5",
         "Good",
         "6",
         "Bachelor",
         "Good",
         "2",
         "No",
         "69.7"
        ],
        [
         "41",
         "S1041",
         "23",
         "Female",
         "2.9",
         "2.3",
         "2.3",
         "No",
         "86.2",
         "7.2",
         "Good",
         "6",
         "Bachelor",
         "Average",
         "1",
         "No",
         "66.0"
        ],
        [
         "42",
         "S1042",
         "18",
         "Male",
         "3.7",
         "3.4",
         "2.0",
         "No",
         "88.9",
         "6.8",
         "Fair",
         "3",
         "High School",
         "Poor",
         "1",
         "Yes",
         "63.5"
        ],
        [
         "43",
         "S1043",
         "24",
         "Female",
         "4.3",
         "0.9",
         "3.2",
         "No",
         "62.8",
         "7.1",
         "Poor",
         "0",
         "Bachelor",
         "Good",
         "2",
         "No",
         "65.7"
        ],
        [
         "44",
         "S1044",
         "20",
         "Female",
         "3.6",
         "1.4",
         "0.8",
         "No",
         "73.0",
         "5.3",
         "Good",
         "4",
         "High School",
         "Poor",
         "9",
         "No",
         "78.5"
        ],
        [
         "45",
         "S1045",
         "20",
         "Male",
         "3.6",
         "3.1",
         "1.1",
         "No",
         "93.9",
         "8.4",
         "Fair",
         "1",
         "Bachelor",
         "Average",
         "5",
         "Yes",
         "75.1"
        ],
        [
         "46",
         "S1046",
         "24",
         "Male",
         "2.4",
         "4.3",
         "1.0",
         "No",
         "87.9",
         "8.9",
         "Poor",
         "5",
         "High School",
         "Average",
         "9",
         "Yes",
         "71.0"
        ],
        [
         "47",
         "S1047",
         "23",
         "Female",
         "2.5",
         "2.9",
         "2.7",
         "No",
         "83.5",
         "7.0",
         "Good",
         "4",
         null,
         "Good",
         "8",
         "Yes",
         "59.7"
        ],
        [
         "48",
         "S1048",
         "22",
         "Female",
         "1.4",
         "2.1",
         "2.8",
         "No",
         "90.6",
         "8.4",
         "Fair",
         "3",
         "Bachelor",
         "Good",
         "6",
         "No",
         "52.6"
        ],
        [
         "49",
         "S1049",
         "22",
         "Female",
         "6.1",
         "2.5",
         "2.3",
         "No",
         "100.0",
         "5.8",
         "Poor",
         "5",
         "High School",
         "Average",
         "1",
         "No",
         "96.5"
        ]
       ],
       "shape": {
        "columns": 16,
        "rows": 1000
       }
      },
      "text/html": [
       "<div>\n",
       "<style scoped>\n",
       "    .dataframe tbody tr th:only-of-type {\n",
       "        vertical-align: middle;\n",
       "    }\n",
       "\n",
       "    .dataframe tbody tr th {\n",
       "        vertical-align: top;\n",
       "    }\n",
       "\n",
       "    .dataframe thead th {\n",
       "        text-align: right;\n",
       "    }\n",
       "</style>\n",
       "<table border=\"1\" class=\"dataframe\">\n",
       "  <thead>\n",
       "    <tr style=\"text-align: right;\">\n",
       "      <th></th>\n",
       "      <th>student_id</th>\n",
       "      <th>age</th>\n",
       "      <th>gender</th>\n",
       "      <th>study_hours_per_day</th>\n",
       "      <th>social_media_hours</th>\n",
       "      <th>netflix_hours</th>\n",
       "      <th>part_time_job</th>\n",
       "      <th>attendance_percentage</th>\n",
       "      <th>sleep_hours</th>\n",
       "      <th>diet_quality</th>\n",
       "      <th>exercise_frequency</th>\n",
       "      <th>parental_education_level</th>\n",
       "      <th>internet_quality</th>\n",
       "      <th>mental_health_rating</th>\n",
       "      <th>extracurricular_participation</th>\n",
       "      <th>exam_score</th>\n",
       "    </tr>\n",
       "  </thead>\n",
       "  <tbody>\n",
       "    <tr>\n",
       "      <th>0</th>\n",
       "      <td>S1000</td>\n",
       "      <td>23</td>\n",
       "      <td>Female</td>\n",
       "      <td>0.0</td>\n",
       "      <td>1.2</td>\n",
       "      <td>1.1</td>\n",
       "      <td>No</td>\n",
       "      <td>85.0</td>\n",
       "      <td>8.0</td>\n",
       "      <td>Fair</td>\n",
       "      <td>6</td>\n",
       "      <td>Master</td>\n",
       "      <td>Average</td>\n",
       "      <td>8</td>\n",
       "      <td>Yes</td>\n",
       "      <td>56.2</td>\n",
       "    </tr>\n",
       "    <tr>\n",
       "      <th>1</th>\n",
       "      <td>S1001</td>\n",
       "      <td>20</td>\n",
       "      <td>Female</td>\n",
       "      <td>6.9</td>\n",
       "      <td>2.8</td>\n",
       "      <td>2.3</td>\n",
       "      <td>No</td>\n",
       "      <td>97.3</td>\n",
       "      <td>4.6</td>\n",
       "      <td>Good</td>\n",
       "      <td>6</td>\n",
       "      <td>High School</td>\n",
       "      <td>Average</td>\n",
       "      <td>8</td>\n",
       "      <td>No</td>\n",
       "      <td>100.0</td>\n",
       "    </tr>\n",
       "    <tr>\n",
       "      <th>2</th>\n",
       "      <td>S1002</td>\n",
       "      <td>21</td>\n",
       "      <td>Male</td>\n",
       "      <td>1.4</td>\n",
       "      <td>3.1</td>\n",
       "      <td>1.3</td>\n",
       "      <td>No</td>\n",
       "      <td>94.8</td>\n",
       "      <td>8.0</td>\n",
       "      <td>Poor</td>\n",
       "      <td>1</td>\n",
       "      <td>High School</td>\n",
       "      <td>Poor</td>\n",
       "      <td>1</td>\n",
       "      <td>No</td>\n",
       "      <td>34.3</td>\n",
       "    </tr>\n",
       "    <tr>\n",
       "      <th>3</th>\n",
       "      <td>S1003</td>\n",
       "      <td>23</td>\n",
       "      <td>Female</td>\n",
       "      <td>1.0</td>\n",
       "      <td>3.9</td>\n",
       "      <td>1.0</td>\n",
       "      <td>No</td>\n",
       "      <td>71.0</td>\n",
       "      <td>9.2</td>\n",
       "      <td>Poor</td>\n",
       "      <td>4</td>\n",
       "      <td>Master</td>\n",
       "      <td>Good</td>\n",
       "      <td>1</td>\n",
       "      <td>Yes</td>\n",
       "      <td>26.8</td>\n",
       "    </tr>\n",
       "    <tr>\n",
       "      <th>4</th>\n",
       "      <td>S1004</td>\n",
       "      <td>19</td>\n",
       "      <td>Female</td>\n",
       "      <td>5.0</td>\n",
       "      <td>4.4</td>\n",
       "      <td>0.5</td>\n",
       "      <td>No</td>\n",
       "      <td>90.9</td>\n",
       "      <td>4.9</td>\n",
       "      <td>Fair</td>\n",
       "      <td>3</td>\n",
       "      <td>Master</td>\n",
       "      <td>Good</td>\n",
       "      <td>1</td>\n",
       "      <td>No</td>\n",
       "      <td>66.4</td>\n",
       "    </tr>\n",
       "    <tr>\n",
       "      <th>...</th>\n",
       "      <td>...</td>\n",
       "      <td>...</td>\n",
       "      <td>...</td>\n",
       "      <td>...</td>\n",
       "      <td>...</td>\n",
       "      <td>...</td>\n",
       "      <td>...</td>\n",
       "      <td>...</td>\n",
       "      <td>...</td>\n",
       "      <td>...</td>\n",
       "      <td>...</td>\n",
       "      <td>...</td>\n",
       "      <td>...</td>\n",
       "      <td>...</td>\n",
       "      <td>...</td>\n",
       "      <td>...</td>\n",
       "    </tr>\n",
       "    <tr>\n",
       "      <th>995</th>\n",
       "      <td>S1995</td>\n",
       "      <td>21</td>\n",
       "      <td>Female</td>\n",
       "      <td>2.6</td>\n",
       "      <td>0.5</td>\n",
       "      <td>1.6</td>\n",
       "      <td>No</td>\n",
       "      <td>77.0</td>\n",
       "      <td>7.5</td>\n",
       "      <td>Fair</td>\n",
       "      <td>2</td>\n",
       "      <td>High School</td>\n",
       "      <td>Good</td>\n",
       "      <td>6</td>\n",
       "      <td>Yes</td>\n",
       "      <td>76.1</td>\n",
       "    </tr>\n",
       "    <tr>\n",
       "      <th>996</th>\n",
       "      <td>S1996</td>\n",
       "      <td>17</td>\n",
       "      <td>Female</td>\n",
       "      <td>2.9</td>\n",
       "      <td>1.0</td>\n",
       "      <td>2.4</td>\n",
       "      <td>Yes</td>\n",
       "      <td>86.0</td>\n",
       "      <td>6.8</td>\n",
       "      <td>Poor</td>\n",
       "      <td>1</td>\n",
       "      <td>High School</td>\n",
       "      <td>Average</td>\n",
       "      <td>6</td>\n",
       "      <td>Yes</td>\n",
       "      <td>65.9</td>\n",
       "    </tr>\n",
       "    <tr>\n",
       "      <th>997</th>\n",
       "      <td>S1997</td>\n",
       "      <td>20</td>\n",
       "      <td>Male</td>\n",
       "      <td>3.0</td>\n",
       "      <td>2.6</td>\n",
       "      <td>1.3</td>\n",
       "      <td>No</td>\n",
       "      <td>61.9</td>\n",
       "      <td>6.5</td>\n",
       "      <td>Good</td>\n",
       "      <td>5</td>\n",
       "      <td>Bachelor</td>\n",
       "      <td>Good</td>\n",
       "      <td>9</td>\n",
       "      <td>Yes</td>\n",
       "      <td>64.4</td>\n",
       "    </tr>\n",
       "    <tr>\n",
       "      <th>998</th>\n",
       "      <td>S1998</td>\n",
       "      <td>24</td>\n",
       "      <td>Male</td>\n",
       "      <td>5.4</td>\n",
       "      <td>4.1</td>\n",
       "      <td>1.1</td>\n",
       "      <td>Yes</td>\n",
       "      <td>100.0</td>\n",
       "      <td>7.6</td>\n",
       "      <td>Fair</td>\n",
       "      <td>0</td>\n",
       "      <td>Bachelor</td>\n",
       "      <td>Average</td>\n",
       "      <td>1</td>\n",
       "      <td>No</td>\n",
       "      <td>69.7</td>\n",
       "    </tr>\n",
       "    <tr>\n",
       "      <th>999</th>\n",
       "      <td>S1999</td>\n",
       "      <td>19</td>\n",
       "      <td>Female</td>\n",
       "      <td>4.3</td>\n",
       "      <td>2.9</td>\n",
       "      <td>1.9</td>\n",
       "      <td>No</td>\n",
       "      <td>89.4</td>\n",
       "      <td>7.1</td>\n",
       "      <td>Good</td>\n",
       "      <td>2</td>\n",
       "      <td>Bachelor</td>\n",
       "      <td>Average</td>\n",
       "      <td>8</td>\n",
       "      <td>No</td>\n",
       "      <td>74.9</td>\n",
       "    </tr>\n",
       "  </tbody>\n",
       "</table>\n",
       "<p>1000 rows × 16 columns</p>\n",
       "</div>"
      ],
      "text/plain": [
       "    student_id  age  gender  study_hours_per_day  social_media_hours  \\\n",
       "0        S1000   23  Female                  0.0                 1.2   \n",
       "1        S1001   20  Female                  6.9                 2.8   \n",
       "2        S1002   21    Male                  1.4                 3.1   \n",
       "3        S1003   23  Female                  1.0                 3.9   \n",
       "4        S1004   19  Female                  5.0                 4.4   \n",
       "..         ...  ...     ...                  ...                 ...   \n",
       "995      S1995   21  Female                  2.6                 0.5   \n",
       "996      S1996   17  Female                  2.9                 1.0   \n",
       "997      S1997   20    Male                  3.0                 2.6   \n",
       "998      S1998   24    Male                  5.4                 4.1   \n",
       "999      S1999   19  Female                  4.3                 2.9   \n",
       "\n",
       "     netflix_hours part_time_job  attendance_percentage  sleep_hours  \\\n",
       "0              1.1            No                   85.0          8.0   \n",
       "1              2.3            No                   97.3          4.6   \n",
       "2              1.3            No                   94.8          8.0   \n",
       "3              1.0            No                   71.0          9.2   \n",
       "4              0.5            No                   90.9          4.9   \n",
       "..             ...           ...                    ...          ...   \n",
       "995            1.6            No                   77.0          7.5   \n",
       "996            2.4           Yes                   86.0          6.8   \n",
       "997            1.3            No                   61.9          6.5   \n",
       "998            1.1           Yes                  100.0          7.6   \n",
       "999            1.9            No                   89.4          7.1   \n",
       "\n",
       "    diet_quality  exercise_frequency parental_education_level  \\\n",
       "0           Fair                   6                   Master   \n",
       "1           Good                   6              High School   \n",
       "2           Poor                   1              High School   \n",
       "3           Poor                   4                   Master   \n",
       "4           Fair                   3                   Master   \n",
       "..           ...                 ...                      ...   \n",
       "995         Fair                   2              High School   \n",
       "996         Poor                   1              High School   \n",
       "997         Good                   5                 Bachelor   \n",
       "998         Fair                   0                 Bachelor   \n",
       "999         Good                   2                 Bachelor   \n",
       "\n",
       "    internet_quality  mental_health_rating extracurricular_participation  \\\n",
       "0            Average                     8                           Yes   \n",
       "1            Average                     8                            No   \n",
       "2               Poor                     1                            No   \n",
       "3               Good                     1                           Yes   \n",
       "4               Good                     1                            No   \n",
       "..               ...                   ...                           ...   \n",
       "995             Good                     6                           Yes   \n",
       "996          Average                     6                           Yes   \n",
       "997             Good                     9                           Yes   \n",
       "998          Average                     1                            No   \n",
       "999          Average                     8                            No   \n",
       "\n",
       "     exam_score  \n",
       "0          56.2  \n",
       "1         100.0  \n",
       "2          34.3  \n",
       "3          26.8  \n",
       "4          66.4  \n",
       "..          ...  \n",
       "995        76.1  \n",
       "996        65.9  \n",
       "997        64.4  \n",
       "998        69.7  \n",
       "999        74.9  \n",
       "\n",
       "[1000 rows x 16 columns]"
      ]
     },
     "execution_count": 2,
     "metadata": {},
     "output_type": "execute_result"
    }
   ],
   "source": [
    "data = pd.read_csv(\"student_performance.csv\")\n",
    "data"
   ]
  },
  {
   "cell_type": "markdown",
   "id": "f99e53aa",
   "metadata": {},
   "source": [
    "Task-2:Total number of students"
   ]
  },
  {
   "cell_type": "code",
   "execution_count": 6,
   "id": "aa3b0c48",
   "metadata": {},
   "outputs": [
    {
     "name": "stdout",
     "output_type": "stream",
     "text": [
      "Total number of students are 1000\n"
     ]
    }
   ],
   "source": [
    "Total_students = len(data)\n",
    "print(f\"Total number of students are {Total_students}\")"
   ]
  },
  {
   "cell_type": "markdown",
   "id": "96d5bb28",
   "metadata": {},
   "source": [
    "Task-3: Students who studied > 2 hours"
   ]
  },
  {
   "cell_type": "code",
   "execution_count": 24,
   "id": "10236f24",
   "metadata": {},
   "outputs": [
    {
     "data": {
      "application/vnd.microsoft.datawrangler.viewer.v0+json": {
       "columns": [
        {
         "name": "index",
         "rawType": "int64",
         "type": "integer"
        },
        {
         "name": "student_id",
         "rawType": "object",
         "type": "string"
        },
        {
         "name": "study_hours_per_day",
         "rawType": "float64",
         "type": "float"
        }
       ],
       "ref": "8fc93799-ed17-48ba-b539-444c60a54e02",
       "rows": [
        [
         "1",
         "S1001",
         "6.9"
        ],
        [
         "4",
         "S1004",
         "5.0"
        ],
        [
         "5",
         "S1005",
         "7.2"
        ],
        [
         "6",
         "S1006",
         "5.6"
        ],
        [
         "7",
         "S1007",
         "4.3"
        ],
        [
         "8",
         "S1008",
         "4.4"
        ],
        [
         "9",
         "S1009",
         "4.8"
        ],
        [
         "10",
         "S1010",
         "4.6"
        ],
        [
         "11",
         "S1011",
         "3.9"
        ],
        [
         "12",
         "S1012",
         "3.7"
        ],
        [
         "13",
         "S1013",
         "3.4"
        ],
        [
         "14",
         "S1014",
         "2.4"
        ],
        [
         "15",
         "S1015",
         "3.1"
        ],
        [
         "17",
         "S1017",
         "3.4"
        ],
        [
         "20",
         "S1020",
         "3.8"
        ],
        [
         "21",
         "S1021",
         "5.6"
        ],
        [
         "22",
         "S1022",
         "4.9"
        ],
        [
         "25",
         "S1025",
         "4.9"
        ],
        [
         "27",
         "S1027",
         "3.2"
        ],
        [
         "28",
         "S1028",
         "4.3"
        ],
        [
         "30",
         "S1030",
         "3.7"
        ],
        [
         "32",
         "S1032",
         "2.6"
        ],
        [
         "33",
         "S1033",
         "4.0"
        ],
        [
         "35",
         "S1035",
         "4.2"
        ],
        [
         "36",
         "S1036",
         "3.5"
        ],
        [
         "37",
         "S1037",
         "4.3"
        ],
        [
         "38",
         "S1038",
         "3.8"
        ],
        [
         "39",
         "S1039",
         "5.5"
        ],
        [
         "40",
         "S1040",
         "3.7"
        ],
        [
         "41",
         "S1041",
         "2.9"
        ],
        [
         "42",
         "S1042",
         "3.7"
        ],
        [
         "43",
         "S1043",
         "4.3"
        ],
        [
         "44",
         "S1044",
         "3.6"
        ],
        [
         "45",
         "S1045",
         "3.6"
        ],
        [
         "46",
         "S1046",
         "2.4"
        ],
        [
         "47",
         "S1047",
         "2.5"
        ],
        [
         "49",
         "S1049",
         "6.1"
        ],
        [
         "51",
         "S1051",
         "2.5"
        ],
        [
         "52",
         "S1052",
         "2.4"
        ],
        [
         "53",
         "S1053",
         "4.8"
        ],
        [
         "54",
         "S1054",
         "3.1"
        ],
        [
         "55",
         "S1055",
         "5.4"
        ],
        [
         "56",
         "S1056",
         "2.5"
        ],
        [
         "57",
         "S1057",
         "3.9"
        ],
        [
         "58",
         "S1058",
         "2.2"
        ],
        [
         "59",
         "S1059",
         "6.7"
        ],
        [
         "61",
         "S1061",
         "4.0"
        ],
        [
         "62",
         "S1062",
         "4.5"
        ],
        [
         "63",
         "S1063",
         "4.1"
        ],
        [
         "64",
         "S1064",
         "3.2"
        ]
       ],
       "shape": {
        "columns": 2,
        "rows": 846
       }
      },
      "text/html": [
       "<div>\n",
       "<style scoped>\n",
       "    .dataframe tbody tr th:only-of-type {\n",
       "        vertical-align: middle;\n",
       "    }\n",
       "\n",
       "    .dataframe tbody tr th {\n",
       "        vertical-align: top;\n",
       "    }\n",
       "\n",
       "    .dataframe thead th {\n",
       "        text-align: right;\n",
       "    }\n",
       "</style>\n",
       "<table border=\"1\" class=\"dataframe\">\n",
       "  <thead>\n",
       "    <tr style=\"text-align: right;\">\n",
       "      <th></th>\n",
       "      <th>student_id</th>\n",
       "      <th>study_hours_per_day</th>\n",
       "    </tr>\n",
       "  </thead>\n",
       "  <tbody>\n",
       "    <tr>\n",
       "      <th>1</th>\n",
       "      <td>S1001</td>\n",
       "      <td>6.9</td>\n",
       "    </tr>\n",
       "    <tr>\n",
       "      <th>4</th>\n",
       "      <td>S1004</td>\n",
       "      <td>5.0</td>\n",
       "    </tr>\n",
       "    <tr>\n",
       "      <th>5</th>\n",
       "      <td>S1005</td>\n",
       "      <td>7.2</td>\n",
       "    </tr>\n",
       "    <tr>\n",
       "      <th>6</th>\n",
       "      <td>S1006</td>\n",
       "      <td>5.6</td>\n",
       "    </tr>\n",
       "    <tr>\n",
       "      <th>7</th>\n",
       "      <td>S1007</td>\n",
       "      <td>4.3</td>\n",
       "    </tr>\n",
       "    <tr>\n",
       "      <th>...</th>\n",
       "      <td>...</td>\n",
       "      <td>...</td>\n",
       "    </tr>\n",
       "    <tr>\n",
       "      <th>995</th>\n",
       "      <td>S1995</td>\n",
       "      <td>2.6</td>\n",
       "    </tr>\n",
       "    <tr>\n",
       "      <th>996</th>\n",
       "      <td>S1996</td>\n",
       "      <td>2.9</td>\n",
       "    </tr>\n",
       "    <tr>\n",
       "      <th>997</th>\n",
       "      <td>S1997</td>\n",
       "      <td>3.0</td>\n",
       "    </tr>\n",
       "    <tr>\n",
       "      <th>998</th>\n",
       "      <td>S1998</td>\n",
       "      <td>5.4</td>\n",
       "    </tr>\n",
       "    <tr>\n",
       "      <th>999</th>\n",
       "      <td>S1999</td>\n",
       "      <td>4.3</td>\n",
       "    </tr>\n",
       "  </tbody>\n",
       "</table>\n",
       "<p>846 rows × 2 columns</p>\n",
       "</div>"
      ],
      "text/plain": [
       "    student_id  study_hours_per_day\n",
       "1        S1001                  6.9\n",
       "4        S1004                  5.0\n",
       "5        S1005                  7.2\n",
       "6        S1006                  5.6\n",
       "7        S1007                  4.3\n",
       "..         ...                  ...\n",
       "995      S1995                  2.6\n",
       "996      S1996                  2.9\n",
       "997      S1997                  3.0\n",
       "998      S1998                  5.4\n",
       "999      S1999                  4.3\n",
       "\n",
       "[846 rows x 2 columns]"
      ]
     },
     "execution_count": 24,
     "metadata": {},
     "output_type": "execute_result"
    }
   ],
   "source": [
    "students = data[[\"student_id\", \"study_hours_per_day\"]]\n",
    "hard_working_students =  students[data.study_hours_per_day > 2]\n",
    "hard_working_students"
   ]
  },
  {
   "cell_type": "markdown",
   "id": "dc233840",
   "metadata": {},
   "source": [
    "Task-4: Students who passed"
   ]
  },
  {
   "cell_type": "code",
   "execution_count": null,
   "id": "c7fbdf4d",
   "metadata": {},
   "outputs": [
    {
     "data": {
      "application/vnd.microsoft.datawrangler.viewer.v0+json": {
       "columns": [
        {
         "name": "index",
         "rawType": "int64",
         "type": "integer"
        },
        {
         "name": "student_id",
         "rawType": "object",
         "type": "string"
        },
        {
         "name": "attendance_percentage",
         "rawType": "float64",
         "type": "float"
        },
        {
         "name": "exam_score",
         "rawType": "float64",
         "type": "float"
        }
       ],
       "ref": "fab83a3e-94c8-47dd-8aa5-4e126c7a75ae",
       "rows": [
        [
         "0",
         "S1000",
         "85.0",
         "56.2"
        ],
        [
         "1",
         "S1001",
         "97.3",
         "100.0"
        ],
        [
         "2",
         "S1002",
         "94.8",
         "34.3"
        ],
        [
         "4",
         "S1004",
         "90.9",
         "66.4"
        ],
        [
         "5",
         "S1005",
         "82.9",
         "100.0"
        ],
        [
         "6",
         "S1006",
         "85.8",
         "89.8"
        ],
        [
         "7",
         "S1007",
         "77.7",
         "72.6"
        ],
        [
         "8",
         "S1008",
         "100.0",
         "78.9"
        ],
        [
         "9",
         "S1009",
         "95.4",
         "100.0"
        ],
        [
         "10",
         "S1010",
         "77.6",
         "63.3"
        ],
        [
         "12",
         "S1012",
         "81.1",
         "76.9"
        ],
        [
         "13",
         "S1013",
         "89.3",
         "75.8"
        ],
        [
         "14",
         "S1014",
         "87.4",
         "78.9"
        ],
        [
         "15",
         "S1015",
         "97.5",
         "74.0"
        ],
        [
         "16",
         "S1016",
         "92.9",
         "55.2"
        ],
        [
         "17",
         "S1017",
         "94.7",
         "70.8"
        ],
        [
         "18",
         "S1018",
         "88.3",
         "43.9"
        ],
        [
         "20",
         "S1020",
         "83.0",
         "58.5"
        ],
        [
         "21",
         "S1021",
         "95.6",
         "82.5"
        ],
        [
         "22",
         "S1022",
         "84.5",
         "98.7"
        ],
        [
         "23",
         "S1023",
         "90.0",
         "43.7"
        ],
        [
         "24",
         "S1024",
         "81.8",
         "54.9"
        ],
        [
         "26",
         "S1026",
         "83.8",
         "73.5"
        ],
        [
         "27",
         "S1027",
         "88.1",
         "71.1"
        ],
        [
         "28",
         "S1028",
         "78.4",
         "82.8"
        ],
        [
         "29",
         "S1029",
         "82.6",
         "75.7"
        ],
        [
         "30",
         "S1030",
         "75.6",
         "70.6"
        ],
        [
         "31",
         "S1031",
         "96.2",
         "51.3"
        ],
        [
         "32",
         "S1032",
         "82.1",
         "52.1"
        ],
        [
         "33",
         "S1033",
         "99.5",
         "70.7"
        ],
        [
         "34",
         "S1034",
         "100.0",
         "51.2"
        ],
        [
         "35",
         "S1035",
         "84.2",
         "72.6"
        ],
        [
         "40",
         "S1040",
         "98.8",
         "69.7"
        ],
        [
         "41",
         "S1041",
         "86.2",
         "66.0"
        ],
        [
         "42",
         "S1042",
         "88.9",
         "63.5"
        ],
        [
         "45",
         "S1045",
         "93.9",
         "75.1"
        ],
        [
         "46",
         "S1046",
         "87.9",
         "71.0"
        ],
        [
         "47",
         "S1047",
         "83.5",
         "59.7"
        ],
        [
         "48",
         "S1048",
         "90.6",
         "52.6"
        ],
        [
         "49",
         "S1049",
         "100.0",
         "96.5"
        ],
        [
         "50",
         "S1050",
         "82.8",
         "62.0"
        ],
        [
         "51",
         "S1051",
         "85.7",
         "59.7"
        ],
        [
         "52",
         "S1052",
         "86.9",
         "48.4"
        ],
        [
         "53",
         "S1053",
         "100.0",
         "70.6"
        ],
        [
         "55",
         "S1055",
         "91.8",
         "87.2"
        ],
        [
         "56",
         "S1056",
         "83.9",
         "66.7"
        ],
        [
         "57",
         "S1057",
         "90.7",
         "75.2"
        ],
        [
         "58",
         "S1058",
         "78.4",
         "46.4"
        ],
        [
         "59",
         "S1059",
         "84.5",
         "97.1"
        ],
        [
         "60",
         "S1060",
         "92.1",
         "61.2"
        ]
       ],
       "shape": {
        "columns": 3,
        "rows": 824
       }
      },
      "text/html": [
       "<div>\n",
       "<style scoped>\n",
       "    .dataframe tbody tr th:only-of-type {\n",
       "        vertical-align: middle;\n",
       "    }\n",
       "\n",
       "    .dataframe tbody tr th {\n",
       "        vertical-align: top;\n",
       "    }\n",
       "\n",
       "    .dataframe thead th {\n",
       "        text-align: right;\n",
       "    }\n",
       "</style>\n",
       "<table border=\"1\" class=\"dataframe\">\n",
       "  <thead>\n",
       "    <tr style=\"text-align: right;\">\n",
       "      <th></th>\n",
       "      <th>student_id</th>\n",
       "      <th>attendance_percentage</th>\n",
       "      <th>exam_score</th>\n",
       "    </tr>\n",
       "  </thead>\n",
       "  <tbody>\n",
       "    <tr>\n",
       "      <th>0</th>\n",
       "      <td>S1000</td>\n",
       "      <td>85.0</td>\n",
       "      <td>56.2</td>\n",
       "    </tr>\n",
       "    <tr>\n",
       "      <th>1</th>\n",
       "      <td>S1001</td>\n",
       "      <td>97.3</td>\n",
       "      <td>100.0</td>\n",
       "    </tr>\n",
       "    <tr>\n",
       "      <th>2</th>\n",
       "      <td>S1002</td>\n",
       "      <td>94.8</td>\n",
       "      <td>34.3</td>\n",
       "    </tr>\n",
       "    <tr>\n",
       "      <th>4</th>\n",
       "      <td>S1004</td>\n",
       "      <td>90.9</td>\n",
       "      <td>66.4</td>\n",
       "    </tr>\n",
       "    <tr>\n",
       "      <th>5</th>\n",
       "      <td>S1005</td>\n",
       "      <td>82.9</td>\n",
       "      <td>100.0</td>\n",
       "    </tr>\n",
       "    <tr>\n",
       "      <th>...</th>\n",
       "      <td>...</td>\n",
       "      <td>...</td>\n",
       "      <td>...</td>\n",
       "    </tr>\n",
       "    <tr>\n",
       "      <th>994</th>\n",
       "      <td>S1994</td>\n",
       "      <td>75.3</td>\n",
       "      <td>41.7</td>\n",
       "    </tr>\n",
       "    <tr>\n",
       "      <th>995</th>\n",
       "      <td>S1995</td>\n",
       "      <td>77.0</td>\n",
       "      <td>76.1</td>\n",
       "    </tr>\n",
       "    <tr>\n",
       "      <th>996</th>\n",
       "      <td>S1996</td>\n",
       "      <td>86.0</td>\n",
       "      <td>65.9</td>\n",
       "    </tr>\n",
       "    <tr>\n",
       "      <th>998</th>\n",
       "      <td>S1998</td>\n",
       "      <td>100.0</td>\n",
       "      <td>69.7</td>\n",
       "    </tr>\n",
       "    <tr>\n",
       "      <th>999</th>\n",
       "      <td>S1999</td>\n",
       "      <td>89.4</td>\n",
       "      <td>74.9</td>\n",
       "    </tr>\n",
       "  </tbody>\n",
       "</table>\n",
       "<p>824 rows × 3 columns</p>\n",
       "</div>"
      ],
      "text/plain": [
       "    student_id  attendance_percentage  exam_score\n",
       "0        S1000                   85.0        56.2\n",
       "1        S1001                   97.3       100.0\n",
       "2        S1002                   94.8        34.3\n",
       "4        S1004                   90.9        66.4\n",
       "5        S1005                   82.9       100.0\n",
       "..         ...                    ...         ...\n",
       "994      S1994                   75.3        41.7\n",
       "995      S1995                   77.0        76.1\n",
       "996      S1996                   86.0        65.9\n",
       "998      S1998                  100.0        69.7\n",
       "999      S1999                   89.4        74.9\n",
       "\n",
       "[824 rows x 3 columns]"
      ]
     },
     "execution_count": 33,
     "metadata": {},
     "output_type": "execute_result"
    }
   ],
   "source": [
    "students = data[[\"student_id\", \"attendance_percentage\", \"exam_score\"]]\n",
    "passing_rule = (data.attendance_percentage >= 75) & (data.exam_score >= 30)\n",
    "passed_students = students[passing_rule]\n",
    "passed_students"
   ]
  },
  {
   "cell_type": "markdown",
   "id": "e96930b2",
   "metadata": {},
   "source": [
    "Task-5: Students who studied > 2 hours and passed"
   ]
  },
  {
   "cell_type": "code",
   "execution_count": null,
   "id": "97202059",
   "metadata": {},
   "outputs": [
    {
     "data": {
      "application/vnd.microsoft.datawrangler.viewer.v0+json": {
       "columns": [
        {
         "name": "index",
         "rawType": "int64",
         "type": "integer"
        },
        {
         "name": "student_id",
         "rawType": "object",
         "type": "string"
        },
        {
         "name": "study_hours_per_day",
         "rawType": "float64",
         "type": "float"
        },
        {
         "name": "exam_score",
         "rawType": "float64",
         "type": "float"
        }
       ],
       "ref": "3bcc9803-9401-41a0-be1a-873a850794cc",
       "rows": [
        [
         "1",
         "S1001",
         "6.9",
         "100.0"
        ],
        [
         "4",
         "S1004",
         "5.0",
         "66.4"
        ],
        [
         "5",
         "S1005",
         "7.2",
         "100.0"
        ],
        [
         "6",
         "S1006",
         "5.6",
         "89.8"
        ],
        [
         "7",
         "S1007",
         "4.3",
         "72.6"
        ],
        [
         "8",
         "S1008",
         "4.4",
         "78.9"
        ],
        [
         "9",
         "S1009",
         "4.8",
         "100.0"
        ],
        [
         "10",
         "S1010",
         "4.6",
         "63.3"
        ],
        [
         "12",
         "S1012",
         "3.7",
         "76.9"
        ],
        [
         "13",
         "S1013",
         "3.4",
         "75.8"
        ],
        [
         "14",
         "S1014",
         "2.4",
         "78.9"
        ],
        [
         "15",
         "S1015",
         "3.1",
         "74.0"
        ],
        [
         "17",
         "S1017",
         "3.4",
         "70.8"
        ],
        [
         "20",
         "S1020",
         "3.8",
         "58.5"
        ],
        [
         "21",
         "S1021",
         "5.6",
         "82.5"
        ],
        [
         "22",
         "S1022",
         "4.9",
         "98.7"
        ],
        [
         "27",
         "S1027",
         "3.2",
         "71.1"
        ],
        [
         "28",
         "S1028",
         "4.3",
         "82.8"
        ],
        [
         "30",
         "S1030",
         "3.7",
         "70.6"
        ],
        [
         "32",
         "S1032",
         "2.6",
         "52.1"
        ],
        [
         "33",
         "S1033",
         "4.0",
         "70.7"
        ],
        [
         "35",
         "S1035",
         "4.2",
         "72.6"
        ],
        [
         "40",
         "S1040",
         "3.7",
         "69.7"
        ],
        [
         "41",
         "S1041",
         "2.9",
         "66.0"
        ],
        [
         "42",
         "S1042",
         "3.7",
         "63.5"
        ],
        [
         "45",
         "S1045",
         "3.6",
         "75.1"
        ],
        [
         "46",
         "S1046",
         "2.4",
         "71.0"
        ],
        [
         "47",
         "S1047",
         "2.5",
         "59.7"
        ],
        [
         "49",
         "S1049",
         "6.1",
         "96.5"
        ],
        [
         "51",
         "S1051",
         "2.5",
         "59.7"
        ],
        [
         "52",
         "S1052",
         "2.4",
         "48.4"
        ],
        [
         "53",
         "S1053",
         "4.8",
         "70.6"
        ],
        [
         "55",
         "S1055",
         "5.4",
         "87.2"
        ],
        [
         "56",
         "S1056",
         "2.5",
         "66.7"
        ],
        [
         "57",
         "S1057",
         "3.9",
         "75.2"
        ],
        [
         "58",
         "S1058",
         "2.2",
         "46.4"
        ],
        [
         "59",
         "S1059",
         "6.7",
         "97.1"
        ],
        [
         "61",
         "S1061",
         "4.0",
         "75.0"
        ],
        [
         "62",
         "S1062",
         "4.5",
         "94.7"
        ],
        [
         "63",
         "S1063",
         "4.1",
         "77.6"
        ],
        [
         "64",
         "S1064",
         "3.2",
         "68.6"
        ],
        [
         "65",
         "S1065",
         "3.3",
         "69.6"
        ],
        [
         "67",
         "S1067",
         "3.3",
         "62.2"
        ],
        [
         "68",
         "S1068",
         "4.9",
         "82.1"
        ],
        [
         "70",
         "S1070",
         "2.7",
         "59.7"
        ],
        [
         "72",
         "S1072",
         "3.4",
         "77.1"
        ],
        [
         "73",
         "S1073",
         "7.4",
         "97.7"
        ],
        [
         "74",
         "S1074",
         "2.3",
         "66.9"
        ],
        [
         "75",
         "S1075",
         "6.0",
         "99.9"
        ],
        [
         "76",
         "S1076",
         "6.0",
         "100.0"
        ]
       ],
       "shape": {
        "columns": 3,
        "rows": 701
       }
      },
      "text/html": [
       "<div>\n",
       "<style scoped>\n",
       "    .dataframe tbody tr th:only-of-type {\n",
       "        vertical-align: middle;\n",
       "    }\n",
       "\n",
       "    .dataframe tbody tr th {\n",
       "        vertical-align: top;\n",
       "    }\n",
       "\n",
       "    .dataframe thead th {\n",
       "        text-align: right;\n",
       "    }\n",
       "</style>\n",
       "<table border=\"1\" class=\"dataframe\">\n",
       "  <thead>\n",
       "    <tr style=\"text-align: right;\">\n",
       "      <th></th>\n",
       "      <th>student_id</th>\n",
       "      <th>study_hours_per_day</th>\n",
       "      <th>exam_score</th>\n",
       "    </tr>\n",
       "  </thead>\n",
       "  <tbody>\n",
       "    <tr>\n",
       "      <th>1</th>\n",
       "      <td>S1001</td>\n",
       "      <td>6.9</td>\n",
       "      <td>100.0</td>\n",
       "    </tr>\n",
       "    <tr>\n",
       "      <th>4</th>\n",
       "      <td>S1004</td>\n",
       "      <td>5.0</td>\n",
       "      <td>66.4</td>\n",
       "    </tr>\n",
       "    <tr>\n",
       "      <th>5</th>\n",
       "      <td>S1005</td>\n",
       "      <td>7.2</td>\n",
       "      <td>100.0</td>\n",
       "    </tr>\n",
       "    <tr>\n",
       "      <th>6</th>\n",
       "      <td>S1006</td>\n",
       "      <td>5.6</td>\n",
       "      <td>89.8</td>\n",
       "    </tr>\n",
       "    <tr>\n",
       "      <th>7</th>\n",
       "      <td>S1007</td>\n",
       "      <td>4.3</td>\n",
       "      <td>72.6</td>\n",
       "    </tr>\n",
       "    <tr>\n",
       "      <th>...</th>\n",
       "      <td>...</td>\n",
       "      <td>...</td>\n",
       "      <td>...</td>\n",
       "    </tr>\n",
       "    <tr>\n",
       "      <th>993</th>\n",
       "      <td>S1993</td>\n",
       "      <td>3.8</td>\n",
       "      <td>70.9</td>\n",
       "    </tr>\n",
       "    <tr>\n",
       "      <th>995</th>\n",
       "      <td>S1995</td>\n",
       "      <td>2.6</td>\n",
       "      <td>76.1</td>\n",
       "    </tr>\n",
       "    <tr>\n",
       "      <th>996</th>\n",
       "      <td>S1996</td>\n",
       "      <td>2.9</td>\n",
       "      <td>65.9</td>\n",
       "    </tr>\n",
       "    <tr>\n",
       "      <th>998</th>\n",
       "      <td>S1998</td>\n",
       "      <td>5.4</td>\n",
       "      <td>69.7</td>\n",
       "    </tr>\n",
       "    <tr>\n",
       "      <th>999</th>\n",
       "      <td>S1999</td>\n",
       "      <td>4.3</td>\n",
       "      <td>74.9</td>\n",
       "    </tr>\n",
       "  </tbody>\n",
       "</table>\n",
       "<p>701 rows × 3 columns</p>\n",
       "</div>"
      ],
      "text/plain": [
       "    student_id  study_hours_per_day  exam_score\n",
       "1        S1001                  6.9       100.0\n",
       "4        S1004                  5.0        66.4\n",
       "5        S1005                  7.2       100.0\n",
       "6        S1006                  5.6        89.8\n",
       "7        S1007                  4.3        72.6\n",
       "..         ...                  ...         ...\n",
       "993      S1993                  3.8        70.9\n",
       "995      S1995                  2.6        76.1\n",
       "996      S1996                  2.9        65.9\n",
       "998      S1998                  5.4        69.7\n",
       "999      S1999                  4.3        74.9\n",
       "\n",
       "[701 rows x 3 columns]"
      ]
     },
     "execution_count": 50,
     "metadata": {},
     "output_type": "execute_result"
    }
   ],
   "source": [
    "students = data[[\"student_id\", \"study_hours_per_day\", \"exam_score\"]]\n",
    "passed_students = students[passing_rule]\n",
    "hard_working_passed_students_rule = (passing_rule) & (data.study_hours_per_day > 2)\n",
    "hard_working_passed_students = students[hard_working_passed_students_rule]\n",
    "hard_working_passed_students"
   ]
  },
  {
   "cell_type": "markdown",
   "id": "cad73bd8",
   "metadata": {},
   "source": [
    "Type-6: Percentage of students who passed among those who studied > 2 hours"
   ]
  },
  {
   "cell_type": "code",
   "execution_count": 54,
   "id": "009af57d",
   "metadata": {},
   "outputs": [
    {
     "name": "stdout",
     "output_type": "stream",
     "text": [
      "The percentage of students who passed the exam and studied more than 2 hours daily is 82.86\n"
     ]
    }
   ],
   "source": [
    "hard_working_students_no = len(hard_working_students)\n",
    "hard_working_passed_students_no = len(hard_working_passed_students)\n",
    "hard_working_passed_student_frac = hard_working_passed_students_no / hard_working_students_no\n",
    "hard_working_passed_student_per = hard_working_passed_student_frac * 100\n",
    "print(f\"The percentage of students who passed the exam and studied more than 2 hours daily is {round(hard_working_passed_student_per, 2)}\")"
   ]
  },
  {
   "cell_type": "markdown",
   "id": "e3f70139",
   "metadata": {},
   "source": [
    "Task-7: Probability that a student studied > 2h given they passed using Bayes theorem"
   ]
  },
  {
   "cell_type": "code",
   "execution_count": 57,
   "id": "71cc49fc",
   "metadata": {},
   "outputs": [
    {
     "name": "stdout",
     "output_type": "stream",
     "text": [
      "The number of hard working students who passed the examination 0.85\n"
     ]
    }
   ],
   "source": [
    "prob_hard_working_student = hard_working_students_no / Total_students\n",
    "passed_students_no = len(passed_students)\n",
    "prob_passsed_students = passed_students_no / Total_students\n",
    "prob_hard_working_passed_students_no = hard_working_passed_students_no / Total_students\n",
    "prob_hard_working_passed_students = prob_hard_working_passed_students_no / prob_passsed_students\n",
    "print(f\"The number of hard working students who passed the examination {round(prob_hard_working_passed_students, 2)}\")"
   ]
  }
 ],
 "metadata": {
  "kernelspec": {
   "display_name": "Python 3",
   "language": "python",
   "name": "python3"
  },
  "language_info": {
   "codemirror_mode": {
    "name": "ipython",
    "version": 3
   },
   "file_extension": ".py",
   "mimetype": "text/x-python",
   "name": "python",
   "nbconvert_exporter": "python",
   "pygments_lexer": "ipython3",
   "version": "3.13.0"
  }
 },
 "nbformat": 4,
 "nbformat_minor": 5
}
